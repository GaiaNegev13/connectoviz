{
 "cells": [
  {
   "cell_type": "markdown",
   "id": "46445878",
   "metadata": {},
   "source": [
    "# Circular Connectome Plot: Basic Usage Examples\n",
    "This notebook demonstrates how to use `connectoviz.plot_circular_connectome()` with different inputs, including metadata tracks, grouping, hemispheric layout, masks, and remapping."
   ]
  },
  {
   "cell_type": "code",
   "execution_count": 10,
   "id": "9bd79425",
   "metadata": {},
   "outputs": [
    {
     "ename": "ModuleNotFoundError",
     "evalue": "No module named 'connectoviz'",
     "output_type": "error",
     "traceback": [
      "\u001b[31m---------------------------------------------------------------------------\u001b[39m",
      "\u001b[31mModuleNotFoundError\u001b[39m                       Traceback (most recent call last)",
      "\u001b[36mCell\u001b[39m\u001b[36m \u001b[39m\u001b[32mIn[10]\u001b[39m\u001b[32m, line 3\u001b[39m\n\u001b[32m      1\u001b[39m \u001b[38;5;28;01mimport\u001b[39;00m\u001b[38;5;250m \u001b[39m\u001b[34;01mpandas\u001b[39;00m\u001b[38;5;250m \u001b[39m\u001b[38;5;28;01mas\u001b[39;00m\u001b[38;5;250m \u001b[39m\u001b[34;01mpd\u001b[39;00m\n\u001b[32m      2\u001b[39m \u001b[38;5;28;01mimport\u001b[39;00m\u001b[38;5;250m \u001b[39m\u001b[34;01mnumpy\u001b[39;00m\u001b[38;5;250m \u001b[39m\u001b[38;5;28;01mas\u001b[39;00m\u001b[38;5;250m \u001b[39m\u001b[34;01mnp\u001b[39;00m\n\u001b[32m----> \u001b[39m\u001b[32m3\u001b[39m \u001b[38;5;28;01mfrom\u001b[39;00m\u001b[38;5;250m \u001b[39m\u001b[34;01mconnectoviz\u001b[39;00m\u001b[38;5;250m \u001b[39m\u001b[38;5;28;01mimport\u001b[39;00m plot_circular_connectome\n",
      "\u001b[31mModuleNotFoundError\u001b[39m: No module named 'connectoviz'"
     ]
    }
   ],
   "source": [
    "import pandas as pd\n",
    "import numpy as np\n",
    "from connectoviz import plot_circular_connectome"
   ]
  },
  {
   "cell_type": "code",
   "execution_count": 2,
   "id": "6c8ebaa7",
   "metadata": {},
   "outputs": [
    {
     "ename": "NameError",
     "evalue": "name 'pd' is not defined",
     "output_type": "error",
     "traceback": [
      "\u001b[31m---------------------------------------------------------------------------\u001b[39m",
      "\u001b[31mNameError\u001b[39m                                 Traceback (most recent call last)",
      "\u001b[36mCell\u001b[39m\u001b[36m \u001b[39m\u001b[32mIn[2]\u001b[39m\u001b[32m, line 5\u001b[39m\n\u001b[32m      2\u001b[39m atlas_path = \u001b[33m'\u001b[39m\u001b[33msrc/connectoviz/data/atlases/available_atlases/Schaefer2018/MNI152/space-MNI152_atlas-schaefer2018_res-1mm_den-100_div-7networks_dseg.csv\u001b[39m\u001b[33m'\u001b[39m\n\u001b[32m      3\u001b[39m matrix_path = \u001b[33m'\u001b[39m\u001b[33msrc/connectoviz/data/connectomes/Schaefer2018tian2020_100_7.csv\u001b[39m\u001b[33m'\u001b[39m\n\u001b[32m----> \u001b[39m\u001b[32m5\u001b[39m atlas = \u001b[43mpd\u001b[49m.read_csv(atlas_path, index_col=\u001b[32m0\u001b[39m)\n\u001b[32m      6\u001b[39m con_mat = pd.read_csv(matrix_path, index_col=\u001b[32m0\u001b[39m).to_numpy()\n\u001b[32m      8\u001b[39m \u001b[38;5;66;03m# Create synthetic metadata (can be replaced by real input)\u001b[39;00m\n",
      "\u001b[31mNameError\u001b[39m: name 'pd' is not defined"
     ]
    }
   ],
   "source": [
    "# Load example atlas and connectome\n",
    "atlas_path = 'src/connectoviz/data/atlases/available_atlases/Schaefer2018/MNI152/space-MNI152_atlas-schaefer2018_res-1mm_den-100_div-7networks_dseg.csv'\n",
    "matrix_path = 'src/connectoviz/data/connectomes/Schaefer2018tian2020_100_7.csv'\n",
    "\n",
    "atlas = pd.read_csv(atlas_path, index_col=0)\n",
    "con_mat = pd.read_csv(matrix_path, index_col=0).to_numpy()\n",
    "\n",
    "# Create synthetic metadata (can be replaced by real input)\n",
    "metadata = atlas.copy()\n",
    "metadata['GMV'] = np.random.normal(loc=1000, scale=100, size=len(metadata))\n",
    "metadata['centrality'] = np.random.rand(len(metadata))"
   ]
  },
  {
   "cell_type": "markdown",
   "id": "d40ae8fd",
   "metadata": {},
   "source": [
    "### Example 1: Basic circular plot\n",
    "This plot uses only the connectome and atlas with no extra metadata or tracks."
   ]
  },
  {
   "cell_type": "code",
   "execution_count": null,
   "id": "707122b5",
   "metadata": {},
   "outputs": [],
   "source": [
    "plot_circular_connectome(\n",
    "    con_mat=con_mat,\n",
    "    atlas=atlas,\n",
    "    metadata_df=metadata,\n",
    ")"
   ]
  },
  {
   "cell_type": "markdown",
   "id": "4ebd19cd",
   "metadata": {},
   "source": [
    "### Example 2: Add metadata tracks\n",
    "Here we visualize two outer tracks: GMV and centrality."
   ]
  },
  {
   "cell_type": "code",
   "execution_count": null,
   "id": "547aa6d7",
   "metadata": {},
   "outputs": [],
   "source": [
    "plot_circular_connectome(\n",
    "    con_mat=con_mat,\n",
    "    atlas=atlas,\n",
    "    metadata_df=metadata,\n",
    "    tracks=['GMV', 'centrality'],\n",
    ")"
   ]
  },
  {
   "cell_type": "markdown",
   "id": "bf0ad066",
   "metadata": {},
   "source": [
    "### Example 3: Group nodes by lobe\n",
    "The node layout is divided by the 'lobe' column."
   ]
  },
  {
   "cell_type": "code",
   "execution_count": null,
   "id": "62e8fb30",
   "metadata": {},
   "outputs": [],
   "source": [
    "plot_circular_connectome(\n",
    "    con_mat=con_mat,\n",
    "    atlas=atlas,\n",
    "    metadata_df=metadata,\n",
    "    tracks=['GMV'],\n",
    "    group_by='lobe',\n",
    ")"
   ]
  },
  {
   "cell_type": "markdown",
   "id": "54d345f1",
   "metadata": {},
   "source": [
    "### Example 4: Symmetrical hemispheric layout\n",
    "Nodes are split by hemisphere with mirrored symmetry."
   ]
  },
  {
   "cell_type": "code",
   "execution_count": null,
   "id": "e889dafb",
   "metadata": {},
   "outputs": [],
   "source": [
    "plot_circular_connectome(\n",
    "    con_mat=con_mat,\n",
    "    atlas=atlas,\n",
    "    metadata_df=metadata,\n",
    "    tracks=['GMV'],\n",
    "    group_by='lobe',\n",
    "    hemispheric_par=True,\n",
    ")"
   ]
  },
  {
   "cell_type": "markdown",
   "id": "3fdeccdf",
   "metadata": {},
   "source": [
    "### Example 5: Apply a custom weights/mask\n",
    "Edges are shown only where connectivity exceeds 0.2."
   ]
  },
  {
   "cell_type": "code",
   "execution_count": null,
   "id": "56edc6c6",
   "metadata": {},
   "outputs": [],
   "source": [
    "mask = (con_mat > 0.2).astype(int)\n",
    "plot_circular_connectome(\n",
    "    con_mat=con_mat,\n",
    "    atlas=atlas,\n",
    "    metadata_df=metadata,\n",
    "    tracks=['GMV'],\n",
    "    weights=mask,\n",
    "    group_by='network',\n",
    ")"
   ]
  },
  {
   "cell_type": "markdown",
   "id": "639645c4",
   "metadata": {},
   "source": [
    "### Example 6: Remap node labels\n",
    "We relabel nodes using a custom mapping dictionary."
   ]
  },
  {
   "cell_type": "code",
   "execution_count": null,
   "id": "dddd9961",
   "metadata": {},
   "outputs": [],
   "source": [
    "label_map = {idx: f'R{i}' for i, idx in enumerate(metadata.index)}\n",
    "plot_circular_connectome(\n",
    "    con_mat=con_mat,\n",
    "    atlas=atlas,\n",
    "    metadata_df=metadata,\n",
    "    index_mapping=label_map,\n",
    "    tracks=['centrality'],\n",
    "    group_by='hemisphere',\n",
    "    hemispheric_par=True,\n",
    ")"
   ]
  }
 ],
 "metadata": {
  "kernelspec": {
   "display_name": ".venv",
   "language": "python",
   "name": "python3"
  },
  "language_info": {
   "codemirror_mode": {
    "name": "ipython",
    "version": 3
   },
   "file_extension": ".py",
   "mimetype": "text/x-python",
   "name": "python",
   "nbconvert_exporter": "python",
   "pygments_lexer": "ipython3",
   "version": "3.13.0"
  }
 },
 "nbformat": 4,
 "nbformat_minor": 5
}
