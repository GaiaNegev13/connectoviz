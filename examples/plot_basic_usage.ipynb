{
 "cells": [
  {
   "cell_type": "markdown",
   "id": "3c3994c4",
   "metadata": {},
   "source": [
    "# This is a notebook for testing and eventually for full, clear usage examples "
   ]
  },
  {
   "cell_type": "code",
   "execution_count": null,
   "id": "e891ce95",
   "metadata": {
    "vscode": {
     "languageId": "plaintext"
    }
   },
   "outputs": [],
   "source": [
    "# This is a notebook for testing and eventually for full, clear usage examples "
   ]
  }
 ],
 "metadata": {
  "language_info": {
   "name": "python"
  }
 },
 "nbformat": 4,
 "nbformat_minor": 5
}
