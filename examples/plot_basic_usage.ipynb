{
 "cells": [
  {
   "cell_type": "markdown",
   "id": "46445878",
   "metadata": {},
   "source": [
    "# Circular Connectome Plot: Basic Usage Examples\n",
    "This notebook demonstrates how to use `connectoviz.plot_circular_connectome()` with different inputs, including metadata tracks, grouping, hemispheric layout, masks, and remapping."
   ]
  },
  {
   "cell_type": "code",
   "execution_count": 1,
   "id": "9bd79425",
   "metadata": {},
   "outputs": [],
   "source": [
    "import pandas as pd\n",
    "import numpy as np\n",
    "# from connectoviz import plot_circular_connectome"
   ]
  },
  {
   "cell_type": "markdown",
   "id": "a2782eec",
   "metadata": {},
   "source": [
    "# 1. Basic Usage Example"
   ]
  },
  {
   "cell_type": "code",
   "execution_count": 9,
   "id": "6c8ebaa7",
   "metadata": {},
   "outputs": [
    {
     "name": "stdout",
     "output_type": "stream",
     "text": [
      "/home/builder/Connectoviz_project/connectoviz\n"
     ]
    },
    {
     "name": "stderr",
     "output_type": "stream",
     "text": [
      "/home/builder/Connectoviz_project/connectoviz/src/connectoviz/visualization/circular_graph_legacy.py:164: FutureWarning: When grouping with a length-1 list-like, you will need to pass a length-1 tuple to get_group in a future version of pandas. Pass `(name,)` instead of `name` to silence this warning.\n",
      "  group_df = grouped_atlas.get_group(group)\n",
      "/home/builder/Connectoviz_project/connectoviz/src/connectoviz/visualization/circular_graph_legacy.py:164: FutureWarning: When grouping with a length-1 list-like, you will need to pass a length-1 tuple to get_group in a future version of pandas. Pass `(name,)` instead of `name` to silence this warning.\n",
      "  group_df = grouped_atlas.get_group(group)\n",
      "/home/builder/Connectoviz_project/connectoviz/src/connectoviz/visualization/circular_graph_legacy.py:164: FutureWarning: When grouping with a length-1 list-like, you will need to pass a length-1 tuple to get_group in a future version of pandas. Pass `(name,)` instead of `name` to silence this warning.\n",
      "  group_df = grouped_atlas.get_group(group)\n",
      "/home/builder/Connectoviz_project/connectoviz/src/connectoviz/visualization/circular_graph_legacy.py:164: FutureWarning: When grouping with a length-1 list-like, you will need to pass a length-1 tuple to get_group in a future version of pandas. Pass `(name,)` instead of `name` to silence this warning.\n",
      "  group_df = grouped_atlas.get_group(group)\n",
      "/home/builder/Connectoviz_project/connectoviz/src/connectoviz/visualization/circular_graph_legacy.py:164: FutureWarning: When grouping with a length-1 list-like, you will need to pass a length-1 tuple to get_group in a future version of pandas. Pass `(name,)` instead of `name` to silence this warning.\n",
      "  group_df = grouped_atlas.get_group(group)\n",
      "/home/builder/Connectoviz_project/connectoviz/src/connectoviz/visualization/circular_graph_legacy.py:164: FutureWarning: When grouping with a length-1 list-like, you will need to pass a length-1 tuple to get_group in a future version of pandas. Pass `(name,)` instead of `name` to silence this warning.\n",
      "  group_df = grouped_atlas.get_group(group)\n",
      "/home/builder/Connectoviz_project/connectoviz/src/connectoviz/visualization/circular_graph_legacy.py:164: FutureWarning: When grouping with a length-1 list-like, you will need to pass a length-1 tuple to get_group in a future version of pandas. Pass `(name,)` instead of `name` to silence this warning.\n",
      "  group_df = grouped_atlas.get_group(group)\n",
      "/home/builder/Connectoviz_project/connectoviz/src/connectoviz/visualization/circular_graph_legacy.py:164: FutureWarning: When grouping with a length-1 list-like, you will need to pass a length-1 tuple to get_group in a future version of pandas. Pass `(name,)` instead of `name` to silence this warning.\n",
      "  group_df = grouped_atlas.get_group(group)\n",
      "/home/builder/Connectoviz_project/connectoviz/src/connectoviz/visualization/circular_graph_legacy.py:164: FutureWarning: When grouping with a length-1 list-like, you will need to pass a length-1 tuple to get_group in a future version of pandas. Pass `(name,)` instead of `name` to silence this warning.\n",
      "  group_df = grouped_atlas.get_group(group)\n",
      "/home/builder/Connectoviz_project/connectoviz/src/connectoviz/visualization/circular_graph_legacy.py:164: FutureWarning: When grouping with a length-1 list-like, you will need to pass a length-1 tuple to get_group in a future version of pandas. Pass `(name,)` instead of `name` to silence this warning.\n",
      "  group_df = grouped_atlas.get_group(group)\n",
      "/home/builder/Connectoviz_project/connectoviz/src/connectoviz/visualization/circular_graph_legacy.py:164: FutureWarning: When grouping with a length-1 list-like, you will need to pass a length-1 tuple to get_group in a future version of pandas. Pass `(name,)` instead of `name` to silence this warning.\n",
      "  group_df = grouped_atlas.get_group(group)\n",
      "/home/builder/Connectoviz_project/connectoviz/src/connectoviz/visualization/circular_graph_legacy.py:164: FutureWarning: When grouping with a length-1 list-like, you will need to pass a length-1 tuple to get_group in a future version of pandas. Pass `(name,)` instead of `name` to silence this warning.\n",
      "  group_df = grouped_atlas.get_group(group)\n",
      "/home/builder/Connectoviz_project/connectoviz/src/connectoviz/visualization/circular_graph_legacy.py:164: FutureWarning: When grouping with a length-1 list-like, you will need to pass a length-1 tuple to get_group in a future version of pandas. Pass `(name,)` instead of `name` to silence this warning.\n",
      "  group_df = grouped_atlas.get_group(group)\n",
      "/home/builder/Connectoviz_project/connectoviz/src/connectoviz/visualization/circular_graph_legacy.py:164: FutureWarning: When grouping with a length-1 list-like, you will need to pass a length-1 tuple to get_group in a future version of pandas. Pass `(name,)` instead of `name` to silence this warning.\n",
      "  group_df = grouped_atlas.get_group(group)\n",
      "/home/builder/Connectoviz_project/connectoviz/src/connectoviz/visualization/circular_graph_legacy.py:164: FutureWarning: When grouping with a length-1 list-like, you will need to pass a length-1 tuple to get_group in a future version of pandas. Pass `(name,)` instead of `name` to silence this warning.\n",
      "  group_df = grouped_atlas.get_group(group)\n"
     ]
    }
   ],
   "source": [
    "from pathlib import Path\n",
    "from connectoviz.plot_main import plot_circular_connectome_alt\n",
    "%matplotlib qt\n",
    "# Path to the current notebook\n",
    "SCRIPT_DIR = Path().resolve()\n",
    "print(SCRIPT_DIR.parent)\n",
    "# Data directories (assuming this notebook is in the root or /notebooks/ directory)\n",
    "ATLAS_DIR = SCRIPT_DIR.parent / \"src\" / \"connectoviz\" / \"data\" / \"atlases\" / \"available_atlases\"\n",
    "MAT_DIR = SCRIPT_DIR.parent / \"src\" / \"connectoviz\" / \"data\" / \"connectomes\"\n",
    "# File names\n",
    "atlas_fname = \"fan2016/MNI152/space-MNI152_atlas-fan2016_res-1mm_dseg.csv\"\n",
    "matrix_fname = \"fan2016.csv\"\n",
    "# Full paths\n",
    "atlas_path = ATLAS_DIR / atlas_fname\n",
    "matrix_path = MAT_DIR / matrix_fname\n",
    "# Plot using the alt implementation\n",
    "fig, ax = plot_circular_connectome_alt(\n",
    "    connectivity_matrix_path=matrix_path,\n",
    "    atlas_path=atlas_path,\n",
    "    grouping_name=\"Lobe\",\n",
    "    label=\"Label\",\n",
    "    roi_names=\"ROIname\",\n",
    "    hemisphere=\"Hemi\",\n",
    "    metadata=\"Yeo_17network\",\n",
    "    display_node_names=False,\n",
    "    display_group_names=True,\n",
    "    threshold=0.1,\n",
    "    group_cmap=\"Pastel1\",\n",
    "    metadata_cmap=\"pink\",\n",
    "    edge_cmap=\"managua\",  # fallback to \"plasma\" if \"managua\" is unavailable\n",
    "    node_size=10,\n",
    "    figsize=(8, 8),\n",
    "    show_graph=True,\n",
    ")\n"
   ]
  },
  {
   "cell_type": "markdown",
   "id": "d40ae8fd",
   "metadata": {},
   "source": [
    "### Example 1: Basic circular plot\n",
    "This plot uses only the connectome and atlas with no extra metadata or tracks."
   ]
  },
  {
   "cell_type": "code",
   "execution_count": null,
   "id": "707122b5",
   "metadata": {},
   "outputs": [],
   "source": [
    "plot_circular_connectome(\n",
    "    con_mat=con_mat,\n",
    "    atlas=atlas,\n",
    "    metadata_df=metadata,\n",
    ")"
   ]
  },
  {
   "cell_type": "markdown",
   "id": "4ebd19cd",
   "metadata": {},
   "source": [
    "### Example 2: Add metadata tracks\n",
    "Here we visualize two outer tracks: GMV and centrality."
   ]
  },
  {
   "cell_type": "code",
   "execution_count": null,
   "id": "547aa6d7",
   "metadata": {},
   "outputs": [],
   "source": [
    "plot_circular_connectome(\n",
    "    con_mat=con_mat,\n",
    "    atlas=atlas,\n",
    "    metadata_df=metadata,\n",
    "    tracks=['GMV', 'centrality'],\n",
    ")"
   ]
  },
  {
   "cell_type": "markdown",
   "id": "bf0ad066",
   "metadata": {},
   "source": [
    "### Example 3: Group nodes by lobe\n",
    "The node layout is divided by the 'lobe' column."
   ]
  },
  {
   "cell_type": "code",
   "execution_count": null,
   "id": "62e8fb30",
   "metadata": {},
   "outputs": [],
   "source": [
    "plot_circular_connectome(\n",
    "    con_mat=con_mat,\n",
    "    atlas=atlas,\n",
    "    metadata_df=metadata,\n",
    "    tracks=['GMV'],\n",
    "    group_by='lobe',\n",
    ")"
   ]
  },
  {
   "cell_type": "markdown",
   "id": "54d345f1",
   "metadata": {},
   "source": [
    "### Example 4: Symmetrical hemispheric layout\n",
    "Nodes are split by hemisphere with mirrored symmetry."
   ]
  },
  {
   "cell_type": "code",
   "execution_count": null,
   "id": "e889dafb",
   "metadata": {},
   "outputs": [],
   "source": [
    "plot_circular_connectome(\n",
    "    con_mat=con_mat,\n",
    "    atlas=atlas,\n",
    "    metadata_df=metadata,\n",
    "    tracks=['GMV'],\n",
    "    group_by='lobe',\n",
    "    hemispheric_par=True,\n",
    ")"
   ]
  },
  {
   "cell_type": "markdown",
   "id": "3fdeccdf",
   "metadata": {},
   "source": [
    "### Example 5: Apply a custom weights/mask\n",
    "Edges are shown only where connectivity exceeds 0.2."
   ]
  },
  {
   "cell_type": "code",
   "execution_count": null,
   "id": "56edc6c6",
   "metadata": {},
   "outputs": [],
   "source": [
    "mask = (con_mat > 0.2).astype(int)\n",
    "plot_circular_connectome(\n",
    "    con_mat=con_mat,\n",
    "    atlas=atlas,\n",
    "    metadata_df=metadata,\n",
    "    tracks=['GMV'],\n",
    "    weights=mask,\n",
    "    group_by='network',\n",
    ")"
   ]
  },
  {
   "cell_type": "markdown",
   "id": "639645c4",
   "metadata": {},
   "source": [
    "### Example 6: Remap node labels\n",
    "We relabel nodes using a custom mapping dictionary."
   ]
  },
  {
   "cell_type": "code",
   "execution_count": null,
   "id": "dddd9961",
   "metadata": {},
   "outputs": [],
   "source": [
    "label_map = {idx: f'R{i}' for i, idx in enumerate(metadata.index)}\n",
    "plot_circular_connectome(\n",
    "    con_mat=con_mat,\n",
    "    atlas=atlas,\n",
    "    metadata_df=metadata,\n",
    "    index_mapping=label_map,\n",
    "    tracks=['centrality'],\n",
    "    group_by='hemisphere',\n",
    "    hemispheric_par=True,\n",
    ")"
   ]
  }
 ],
 "metadata": {
  "kernelspec": {
   "display_name": ".venv",
   "language": "python",
   "name": "python3"
  },
  "language_info": {
   "codemirror_mode": {
    "name": "ipython",
    "version": 3
   },
   "file_extension": ".py",
   "mimetype": "text/x-python",
   "name": "python",
   "nbconvert_exporter": "python",
   "pygments_lexer": "ipython3",
   "version": "3.12.3"
  }
 },
 "nbformat": 4,
 "nbformat_minor": 5
}
